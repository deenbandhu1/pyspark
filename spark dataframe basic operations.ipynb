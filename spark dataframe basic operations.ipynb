{
 "cells": [
  {
   "cell_type": "markdown",
   "metadata": {},
   "source": [
    "# Spark dataframe Basic operations"
   ]
  },
  {
   "cell_type": "code",
   "execution_count": 4,
   "metadata": {},
   "outputs": [],
   "source": [
    "import findspark\n",
    "findspark.init('/home/appzop2/spark-2.4.0-bin-hadoop2.7/')"
   ]
  },
  {
   "cell_type": "code",
   "execution_count": 6,
   "metadata": {},
   "outputs": [],
   "source": [
    "from pyspark.sql import SparkSession"
   ]
  },
  {
   "cell_type": "code",
   "execution_count": 7,
   "metadata": {},
   "outputs": [],
   "source": [
    "spark = SparkSession.builder.appName('ops').getOrCreate()"
   ]
  },
  {
   "cell_type": "markdown",
   "metadata": {},
   "source": [
    "## read from csv\n",
    "header=True means first row of csv as column names or schema"
   ]
  },
  {
   "cell_type": "code",
   "execution_count": 8,
   "metadata": {},
   "outputs": [],
   "source": [
    "df = spark.read.csv('apple.csv',inferSchema=True,header=True)"
   ]
  },
  {
   "cell_type": "code",
   "execution_count": 10,
   "metadata": {},
   "outputs": [
    {
     "name": "stdout",
     "output_type": "stream",
     "text": [
      "root\n",
      " |-- Date: timestamp (nullable = true)\n",
      " |-- Open: double (nullable = true)\n",
      " |-- High: double (nullable = true)\n",
      " |-- Low: double (nullable = true)\n",
      " |-- Close: double (nullable = true)\n",
      " |-- Volume: integer (nullable = true)\n",
      " |-- Adj Close: double (nullable = true)\n",
      "\n"
     ]
    }
   ],
   "source": [
    "df.printSchema()"
   ]
  },
  {
   "cell_type": "code",
   "execution_count": 11,
   "metadata": {},
   "outputs": [
    {
     "name": "stdout",
     "output_type": "stream",
     "text": [
      "+-------------------+------+------+------+------+--------+---------+\n",
      "|               Date|  Open|  High|   Low| Close|  Volume|Adj Close|\n",
      "+-------------------+------+------+------+------+--------+---------+\n",
      "|2008-10-14 00:00:00|116.26| 116.4|103.14|104.08|70749800|   104.08|\n",
      "|2008-10-13 00:00:00|104.55|110.53|101.02|110.26|54967000|   110.26|\n",
      "|2008-10-10 00:00:00|  85.7| 100.0|  85.0|  96.8|79260700|     96.8|\n",
      "|2008-10-09 00:00:00| 93.35|  95.8|  86.6| 88.74|57763700|    88.74|\n",
      "|2008-10-08 00:00:00| 85.91| 96.33| 85.68| 89.79|78847900|    89.79|\n",
      "|2008-10-07 00:00:00|100.48| 101.5| 88.95| 89.16|67099000|    89.16|\n",
      "|2008-10-06 00:00:00| 91.96| 98.78| 87.54| 98.14|75264900|    98.14|\n",
      "|2008-10-03 00:00:00| 104.0| 106.5| 94.65| 97.07|81942800|    97.07|\n",
      "|2008-10-02 00:00:00|108.01|108.79| 100.0| 100.1|57477300|    100.1|\n",
      "|2008-10-01 00:00:00|111.92|112.36|107.39|109.12|46303000|   109.12|\n",
      "|2008-09-30 00:00:00|108.25| 115.0| 106.3|113.66|58095800|   113.66|\n",
      "|2008-09-29 00:00:00|119.62|119.68|100.59|105.26|93581400|   105.26|\n",
      "|2008-09-26 00:00:00|124.91| 129.8| 123.0|128.24|40208700|   128.24|\n",
      "|2008-09-25 00:00:00| 129.8|134.79|128.52|131.93|35865600|   131.93|\n",
      "|2008-09-24 00:00:00|127.27|130.95|125.15|128.71|37393400|   128.71|\n",
      "|2008-09-23 00:00:00|131.85| 135.8|126.66|126.84|45727300|   126.84|\n",
      "|2008-09-22 00:00:00|139.94|140.25|130.66|131.05|30577300|   131.05|\n",
      "|2008-09-19 00:00:00| 142.6| 144.2|136.31|140.91|51102700|   140.91|\n",
      "|2008-09-18 00:00:00|130.57|135.43|120.68|134.09|59819300|   134.09|\n",
      "|2008-09-17 00:00:00|138.49|138.51|127.83|127.83|42847200|   127.83|\n",
      "+-------------------+------+------+------+------+--------+---------+\n",
      "only showing top 20 rows\n",
      "\n"
     ]
    }
   ],
   "source": [
    "df.show()"
   ]
  },
  {
   "cell_type": "markdown",
   "metadata": {},
   "source": [
    "## read first 3 rows as a list"
   ]
  },
  {
   "cell_type": "code",
   "execution_count": 39,
   "metadata": {
    "scrolled": true
   },
   "outputs": [
    {
     "data": {
      "text/plain": [
       "[Row(Date=datetime.datetime(2008, 10, 14, 0, 0), Open=116.26, High=116.4, Low=103.14, Close=104.08, Volume=70749800, Adj Close=104.08),\n",
       " Row(Date=datetime.datetime(2008, 10, 13, 0, 0), Open=104.55, High=110.53, Low=101.02, Close=110.26, Volume=54967000, Adj Close=110.26),\n",
       " Row(Date=datetime.datetime(2008, 10, 10, 0, 0), Open=85.7, High=100.0, Low=85.0, Close=96.8, Volume=79260700, Adj Close=96.8)]"
      ]
     },
     "execution_count": 39,
     "metadata": {},
     "output_type": "execute_result"
    }
   ],
   "source": [
    "df.head(3)"
   ]
  },
  {
   "cell_type": "code",
   "execution_count": 40,
   "metadata": {},
   "outputs": [
    {
     "data": {
      "text/plain": [
       "Row(Date=datetime.datetime(2008, 10, 14, 0, 0), Open=116.26, High=116.4, Low=103.14, Close=104.08, Volume=70749800, Adj Close=104.08)"
      ]
     },
     "execution_count": 40,
     "metadata": {},
     "output_type": "execute_result"
    }
   ],
   "source": [
    "df.head(3)[0]"
   ]
  },
  {
   "cell_type": "markdown",
   "metadata": {},
   "source": [
    "## filter\n",
    "used to filter out data in dataframe"
   ]
  },
  {
   "cell_type": "code",
   "execution_count": 23,
   "metadata": {},
   "outputs": [
    {
     "name": "stdout",
     "output_type": "stream",
     "text": [
      "+------+-----+\n",
      "|  Open|Close|\n",
      "+------+-----+\n",
      "|  85.7| 96.8|\n",
      "| 93.35|88.74|\n",
      "| 85.91|89.79|\n",
      "|100.48|89.16|\n",
      "| 91.96|98.14|\n",
      "| 104.0|97.07|\n",
      "| 99.59|99.47|\n",
      "|100.09| 99.8|\n",
      "| 98.18|99.92|\n",
      "|101.58|98.84|\n",
      "| 94.23|95.35|\n",
      "| 93.96|93.24|\n",
      "| 91.59|93.51|\n",
      "| 90.89|90.97|\n",
      "| 90.19|90.27|\n",
      "| 90.16| 90.4|\n",
      "|  92.0|90.35|\n",
      "| 90.57|91.43|\n",
      "|  90.9|90.24|\n",
      "| 92.04|92.19|\n",
      "+------+-----+\n",
      "only showing top 20 rows\n",
      "\n"
     ]
    }
   ],
   "source": [
    "df.filter(\"Close < 100\").select(['Open','Close']).show()"
   ]
  },
  {
   "cell_type": "code",
   "execution_count": 25,
   "metadata": {},
   "outputs": [
    {
     "name": "stdout",
     "output_type": "stream",
     "text": [
      "+-------------------+------+------+------+------+--------+---------+\n",
      "|               Date|  Open|  High|   Low| Close|  Volume|Adj Close|\n",
      "+-------------------+------+------+------+------+--------+---------+\n",
      "|2007-12-28 00:00:00|200.59|201.56|196.88|199.83|24987400|   199.83|\n",
      "+-------------------+------+------+------+------+--------+---------+\n",
      "\n"
     ]
    }
   ],
   "source": [
    "#df.filter( (df['Close'] < 200) & ~(df['Open']>200) ).show()\n",
    "\n",
    "df.filter( (df['Close'] < 200) & (df['Open']>200) ).show()"
   ]
  },
  {
   "cell_type": "code",
   "execution_count": 26,
   "metadata": {},
   "outputs": [
    {
     "name": "stdout",
     "output_type": "stream",
     "text": [
      "+-------------------+------+------+-----+------+--------+---------+\n",
      "|               Date|  Open|  High|  Low| Close|  Volume|Adj Close|\n",
      "+-------------------+------+------+-----+------+--------+---------+\n",
      "|2008-10-02 00:00:00|108.01|108.79|100.0| 100.1|57477300|    100.1|\n",
      "|2000-02-01 00:00:00| 104.0| 105.0|100.0|100.25|11380000|    25.06|\n",
      "+-------------------+------+------+-----+------+--------+---------+\n",
      "\n"
     ]
    }
   ],
   "source": [
    "df.filter(df['Low'] == 100.0).show()"
   ]
  },
  {
   "cell_type": "markdown",
   "metadata": {},
   "source": [
    "## collect\n",
    "\n",
    "Collect (Action) - Return all the elements of the dataset as an array at the driver program. <b>Collect is usually useful after a filter or other operation that returns a sufficiently small subset of the data.</b>\n",
    "\n",
    "<b>show()</b> simply projects data onto the screen while <b>collect returns all the rows in a dataset</b> which is quite dangerous if you have a large dataset, use it on small datasets after a filter...\n"
   ]
  },
  {
   "cell_type": "code",
   "execution_count": 27,
   "metadata": {},
   "outputs": [],
   "source": [
    "result = df.filter(df['Low'] == 100.0).collect()"
   ]
  },
  {
   "cell_type": "code",
   "execution_count": 28,
   "metadata": {},
   "outputs": [
    {
     "data": {
      "text/plain": [
       "[Row(Date=datetime.datetime(2008, 10, 2, 0, 0), Open=108.01, High=108.79, Low=100.0, Close=100.1, Volume=57477300, Adj Close=100.1),\n",
       " Row(Date=datetime.datetime(2000, 2, 1, 0, 0), Open=104.0, High=105.0, Low=100.0, Close=100.25, Volume=11380000, Adj Close=25.06)]"
      ]
     },
     "execution_count": 28,
     "metadata": {},
     "output_type": "execute_result"
    }
   ],
   "source": [
    "result"
   ]
  },
  {
   "cell_type": "code",
   "execution_count": 29,
   "metadata": {},
   "outputs": [
    {
     "data": {
      "text/plain": [
       "Row(Date=datetime.datetime(2008, 10, 2, 0, 0), Open=108.01, High=108.79, Low=100.0, Close=100.1, Volume=57477300, Adj Close=100.1)"
      ]
     },
     "execution_count": 29,
     "metadata": {},
     "output_type": "execute_result"
    }
   ],
   "source": [
    "result[0]"
   ]
  },
  {
   "cell_type": "code",
   "execution_count": 31,
   "metadata": {},
   "outputs": [
    {
     "data": {
      "text/plain": [
       "57477300"
      ]
     },
     "execution_count": 31,
     "metadata": {},
     "output_type": "execute_result"
    }
   ],
   "source": [
    "result[0]['Volume']"
   ]
  },
  {
   "cell_type": "markdown",
   "metadata": {},
   "source": [
    "## convert to dictionary"
   ]
  },
  {
   "cell_type": "code",
   "execution_count": 35,
   "metadata": {},
   "outputs": [
    {
     "data": {
      "text/plain": [
       "{'Date': datetime.datetime(2008, 10, 2, 0, 0),\n",
       " 'Open': 108.01,\n",
       " 'High': 108.79,\n",
       " 'Low': 100.0,\n",
       " 'Close': 100.1,\n",
       " 'Volume': 57477300,\n",
       " 'Adj Close': 100.1}"
      ]
     },
     "execution_count": 35,
     "metadata": {},
     "output_type": "execute_result"
    }
   ],
   "source": [
    "row = result[0].asDict()\n",
    "row"
   ]
  },
  {
   "cell_type": "code",
   "execution_count": 38,
   "metadata": {},
   "outputs": [
    {
     "data": {
      "text/plain": [
       "57477300"
      ]
     },
     "execution_count": 38,
     "metadata": {},
     "output_type": "execute_result"
    }
   ],
   "source": [
    "#result[0].asDict()['Volume']\n",
    "row['Volume']"
   ]
  }
 ],
 "metadata": {
  "kernelspec": {
   "display_name": "Python 3",
   "language": "python",
   "name": "python3"
  },
  "language_info": {
   "codemirror_mode": {
    "name": "ipython",
    "version": 3
   },
   "file_extension": ".py",
   "mimetype": "text/x-python",
   "name": "python",
   "nbconvert_exporter": "python",
   "pygments_lexer": "ipython3",
   "version": "3.7.1"
  }
 },
 "nbformat": 4,
 "nbformat_minor": 2
}
